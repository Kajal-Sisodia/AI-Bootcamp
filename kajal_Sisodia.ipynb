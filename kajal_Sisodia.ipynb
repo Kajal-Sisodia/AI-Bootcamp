{
  "nbformat": 4,
  "nbformat_minor": 0,
  "metadata": {
    "colab": {
      "provenance": []
    },
    "kernelspec": {
      "name": "python3",
      "display_name": "Python 3"
    },
    "language_info": {
      "name": "python"
    }
  },
  "cells": [
    {
      "cell_type": "code",
      "execution_count": 3,
      "metadata": {
        "colab": {
          "base_uri": "https://localhost:8080/"
        },
        "id": "oEz2Nf95zRbG",
        "outputId": "4c9a24fe-ee8e-4eca-9074-6fc73a3afa32"
      },
      "outputs": [
        {
          "output_type": "stream",
          "name": "stdout",
          "text": [
            "Basic Calculator\n",
            "Enter first number: 66\n",
            "Enter second number: 68\n",
            "Select operation: +  -  *  /\n",
            "Enter operator: *\n",
            "Result: 4488.0\n"
          ]
        }
      ],
      "source": [
        "# Function to add two numbers\n",
        "def add(a, b):\n",
        "    return a + b\n",
        "\n",
        "# Function to subtract two numbers\n",
        "def subtract(a, b):\n",
        "    return a - b\n",
        "\n",
        "# Function to multiply two numbers\n",
        "def multiply(a, b):\n",
        "    return a * b\n",
        "\n",
        "# Function to divide two numbers\n",
        "def divide(a, b):\n",
        "    if b == 0:\n",
        "        return \"Error: Division by zero!\"\n",
        "    return a / b\n",
        "\n",
        "# Main program\n",
        "print(\"Basic Calculator\")\n",
        "\n",
        "num1 = float(input(\"Enter first number: \"))\n",
        "num2 = float(input(\"Enter second number: \"))\n",
        "\n",
        "print(\"Select operation: +  -  *  /\")\n",
        "choice = input(\"Enter operator: \")\n",
        "\n",
        "if choice in ['+', '-', '*', '/']:\n",
        "    if choice == '+':\n",
        "        print(\"Result:\", add(num1, num2))\n",
        "    elif choice == '-':\n",
        "        print(\"Result:\", subtract(num1, num2))\n",
        "    elif choice == '*':\n",
        "        print(\"Result:\", multiply(num1, num2))\n",
        "    elif choice == '/':\n",
        "        print(\"Result:\", divide(num1, num2))\n",
        "else:\n",
        "    print(\"Invalid operation! Please enter one of +, -, *, /.\")"
      ]
    },
    {
      "cell_type": "code",
      "source": [
        "_"
      ],
      "metadata": {
        "id": "31vxjwBzzclv"
      },
      "execution_count": null,
      "outputs": []
    }
  ]
}